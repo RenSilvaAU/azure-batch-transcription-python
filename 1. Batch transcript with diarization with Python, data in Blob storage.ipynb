{
 "cells": [
  {
   "cell_type": "markdown",
   "metadata": {},
   "source": [
    "# Using batch transcription in Python\n",
    "\n",
    "This is a simple example on using batch transcription, when data is in Blob storage, using Python requests\n"
   ]
  },
  {
   "cell_type": "markdown",
   "metadata": {},
   "source": [
    "## Prepare the request\n",
    "\n",
    "Update the constants with you information from your own account:\n",
    "\n",
    "* **REGION**: the region your cognitive service was created. I used \"australiaeast\", for instance\n",
    "* **KEY**: your cognitive service key\n",
    "* **MODEL_ID**: if you are using custom speech, add the model ID, otherwise, leave it blank\n"
   ]
  },
  {
   "cell_type": "code",
   "execution_count": null,
   "metadata": {},
   "outputs": [],
   "source": [
    "import requests\n",
    "\n",
    "\n",
    "REGION = \"<<your cognitive service region>>\"\n",
    "KEY = \"<<your cognitive service key>>\"\n",
    "MODEL_ID = \"<<your custom speech model id - if any>>\"\n",
    "\n",
    "# this needs to be generated for the blob container - with permissions 'r' and 'l'\n",
    "\n",
    "### NORMAL\n",
    "BLOB_CONTAINER_SAS_URL =\"<<your blob SAS URL>>\"\n",
    "\n",
    "url = f\"https://{REGION}.api.cognitive.microsoft.com/speechtotext/v3.0/transcriptions\"\n",
    "\n"
   ]
  },
  {
   "cell_type": "markdown",
   "metadata": {},
   "source": [
    "## Create translation job"
   ]
  },
  {
   "cell_type": "code",
   "execution_count": null,
   "metadata": {},
   "outputs": [],
   "source": [
    "payload=f'''\n",
    "{{   \"contentContainerUrl\":     \"{BLOB_CONTAINER_SAS_URL}\",  \n",
    "    \"properties\": {{    \n",
    "        \"diarizationEnabled\": true,    \n",
    "        \"wordLevelTimestampsEnabled\": false,    \n",
    "        \"punctuationMode\": \"DictatedAndAutomatic\" \n",
    "    }},  \n",
    "    \"locale\": \"en-AU\",  \n",
    "    \"displayName\": \"Transcription using Custom model for en-AU\",\n",
    "    \"model\": {{\n",
    "        \"self\": \"https://{REGION}.api.cognitive.microsoft.com/speechtotext/v3.0/models/{MODEL_ID}\"\n",
    "    }},\n",
    "}}\n",
    "'''\n",
    "\n",
    "\n",
    "headers = {\n",
    "  'Ocp-Apim-Subscription-Key': f'{KEY}',\n",
    "  'Content-Type': 'application/json'\n",
    "}\n",
    "\n",
    "response = requests.request(\"POST\", url, headers=headers, data=payload)\n",
    "\n",
    "print(response.text)\n"
   ]
  },
  {
   "cell_type": "code",
   "execution_count": null,
   "metadata": {},
   "outputs": [],
   "source": [
    "response_json = response.json()\n",
    "\n",
    "get_run = response_json['self']\n",
    "get_files = response_json['links']['files']\n",
    "\n",
    "print(get_run)\n",
    "print(get_files)"
   ]
  },
  {
   "cell_type": "markdown",
   "metadata": {},
   "source": [
    "## Check results"
   ]
  },
  {
   "cell_type": "code",
   "execution_count": null,
   "metadata": {
    "scrolled": false
   },
   "outputs": [],
   "source": [
    "import time\n",
    "\n",
    "running_status = None\n",
    "wait_string = ''\n",
    "\n",
    "while running_status not in ['Succeeded','Failed']:\n",
    "\n",
    "    response = requests.request(\"GET\", get_run, headers=headers)\n",
    "\n",
    "    running_status = response.json()['status']\n",
    "\n",
    "    if running_status not in ['Succeeded','Failed']:\n",
    "        wait_string += '.'\n",
    "        print(f'{wait_string}{running_status}',end =\"\\r\" )\n",
    "        time.sleep(10)\n",
    "\n",
    "print(f'{wait_string}{running_status}')    \n",
    "try:\n",
    "    print(response.json()['properties']['error']['message'])\n",
    "except:\n",
    "    pass"
   ]
  },
  {
   "cell_type": "markdown",
   "metadata": {},
   "source": [
    "## Get results"
   ]
  },
  {
   "cell_type": "code",
   "execution_count": null,
   "metadata": {},
   "outputs": [],
   "source": [
    "import json\n",
    "response = requests.request(\"GET\", get_files, headers=headers)\n",
    "\n",
    "response_json = response.json()\n",
    "\n",
    "values = response_json[\"values\"]\n",
    "\n",
    "\n",
    "print(json.dumps(values,indent=2))"
   ]
  },
  {
   "cell_type": "code",
   "execution_count": null,
   "metadata": {
    "scrolled": false
   },
   "outputs": [],
   "source": [
    "\n",
    "from pandas import DataFrame\n",
    "\n",
    "for value in values:\n",
    "    \n",
    "\n",
    "    doc_url = value['links']['contentUrl']\n",
    "    \n",
    "    if value['kind'] == 'Transcription':\n",
    "\n",
    "        # start a new file transcription\n",
    "\n",
    "        file_name = value['name'][:-5]\n",
    "        \n",
    "        file_content = []\n",
    "\n",
    "        print('\\n**************************************************')\n",
    "        \n",
    "        print(file_name)\n",
    "\n",
    "        response = requests.request(\"GET\", doc_url, headers=headers)\n",
    "\n",
    "        response_json = response.json()\n",
    "\n",
    "        phrases = response_json['recognizedPhrases']\n",
    "\n",
    "        for phrase in phrases:\n",
    "            print('\\n',phrase['offset'] )\n",
    "            best_recs = phrase['nBest']\n",
    "\n",
    "            for rec in best_recs:\n",
    "                print(rec['display'])\n",
    "                \n",
    "                file_content.append([phrase['offset'],rec['display']])\n",
    "            print()\n",
    "        print()\n",
    "        \n",
    "  \n",
    "\n",
    "        df = DataFrame (file_content,columns=['offset','transcription'])\n",
    "\n",
    "        df.to_csv(file_name + \".csv\")\n",
    "    "
   ]
  }
 ],
 "metadata": {
  "kernelspec": {
   "display_name": "Python (s2t)",
   "language": "python",
   "name": "s2t"
  },
  "language_info": {
   "codemirror_mode": {
    "name": "ipython",
    "version": 3
   },
   "file_extension": ".py",
   "mimetype": "text/x-python",
   "name": "python",
   "nbconvert_exporter": "python",
   "pygments_lexer": "ipython3",
   "version": "3.6.9"
  }
 },
 "nbformat": 4,
 "nbformat_minor": 4
}
